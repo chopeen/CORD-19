{
 "cells": [
  {
   "cell_type": "markdown",
   "metadata": {},
   "source": [
    "See https://github.com/explosion/projects/tree/master/ner-fashion-brands#-results for details."
   ]
  },
  {
   "cell_type": "code",
   "execution_count": null,
   "metadata": {},
   "outputs": [],
   "source": [
    "!spacy pretrain data/raw/cord_19_rf_sentences.jsonl en_core_sci_lg models/tok2vec_rf_sci \\\n",
    "    --use-vectors --n-save-every 2"
   ]
  }
 ],
 "metadata": {
  "kernelspec": {
   "display_name": "Python 3.7.6 64-bit ('cord-19-env': conda)",
   "language": "python",
   "name": "python37664bitcord19envcondaadbcaf556a6649a682295ec61a03c4ea"
  },
  "language_info": {
   "codemirror_mode": {
    "name": "ipython",
    "version": 3
   },
   "file_extension": ".py",
   "mimetype": "text/x-python",
   "name": "python",
   "nbconvert_exporter": "python",
   "pygments_lexer": "ipython3",
   "version": "3.7.7"
  }
 },
 "nbformat": 4,
 "nbformat_minor": 4
}
