{
 "cells": [
  {
   "cell_type": "markdown",
   "metadata": {},
   "source": [
    "See https://github.com/explosion/projects/tree/master/ner-fashion-brands#-results for an explanation of the pretraining idea.\n",
    "\n",
    "Moved to a GPU-enabled Kaggle notebook: https://www.kaggle.com/chopeen/spacy-gpu"
     ]
    }
   ],
 "metadata": {
  "kernelspec": {
   "display_name": "Python 3.7.6 64-bit ('cord-19-env': conda)",
   "language": "python",
   "name": "python37664bitcord19envcondaadbcaf556a6649a682295ec61a03c4ea"
  },
  "language_info": {
   "codemirror_mode": {
    "name": "ipython",
    "version": 3
   },
   "file_extension": ".py",
   "mimetype": "text/x-python",
   "name": "python",
   "nbconvert_exporter": "python",
   "pygments_lexer": "ipython3",
   "version": "3.7.7"
  }
 },
 "nbformat": 4,
 "nbformat_minor": 4
}
