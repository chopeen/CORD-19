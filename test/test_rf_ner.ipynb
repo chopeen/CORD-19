{
 "cells": [
  {
   "cell_type": "markdown",
   "metadata": {},
   "source": [
    "# Test the custom NER models\n",
    "\n",
    "## Installing custom models\n",
    "\n",
    "You can find download links for the `en_ner_rf_iXX_md` models in [README](https://github.com/chopeen/CORD-19/blob/master/README.md#base-model-en_core_sci_md).\n",
    "\n",
    "Alternatively, you can install them by creating the environment `cord-19-test`:\n",
    "\n",
    "```\n",
    "$ cd test/\n",
    "$ conda env create -f environment_test.yml\n",
    "```"
   ]
  },
  {
   "cell_type": "markdown",
   "metadata": {},
   "source": [
    "## Helpers"
   ]
  },
  {
   "cell_type": "code",
   "execution_count": 1,
   "metadata": {},
   "outputs": [],
   "source": [
    "def get_entity_options():\n",
    "    ents = ['ENTITY', 'RISK_FACTOR']\n",
    "    colors_dict = {\n",
    "        'ENTITY': '#e0d8ce',\n",
    "        'RISK_FACTOR': '#cca0db'\n",
    "    }\n",
    "    return {'ents': ents, 'colors': colors_dict}"
   ]
  },
  {
   "cell_type": "markdown",
   "metadata": {},
   "source": [
    "## Dummy input test"
   ]
  },
  {
   "cell_type": "code",
   "execution_count": 2,
   "metadata": {},
   "outputs": [],
   "source": [
    "text = \"\"\"The following risk factors were is scope of the analysis:\n",
    " - age,\n",
    " - gender,\n",
    " - comorbidities (HBT, leukemia, CVD),\n",
    " - BP 140/90 or higher.\n",
    "We identified older age and leukemia to be the major factors.\"\"\""
   ]
  },
  {
   "cell_type": "markdown",
   "metadata": {},
   "source": [
    "## Run NER\n",
    "\n",
    "Check [README](https://github.com/chopeen/CORD-19/blob/master/README.md#model-performance) for a discussion of model performance and datasets used for iterations 1..4."
   ]
  },
  {
   "cell_type": "code",
   "execution_count": 3,
   "metadata": {},
   "outputs": [],
   "source": [
    "import spacy\n",
    "\n",
    "from pprint import pprint\n",
    "from spacy import displacy"
   ]
  },
  {
   "cell_type": "code",
   "execution_count": 4,
   "metadata": {},
   "outputs": [],
   "source": [
    "def show_entities(model, text):    \n",
    "    rf_ner = spacy.load(model)\n",
    "    doc = rf_ner(text)\n",
    "    \n",
    "    displacy.render(doc, style=\"ent\", jupyter=True, options=get_entity_options())\n",
    "    \n",
    "    # GitHub does not render the highlights, so additionaly use text-only format\n",
    "    pprint([(ent.text, ent.label_) for ent in doc.ents])"
   ]
  },
  {
   "cell_type": "markdown",
   "metadata": {},
   "source": [
    "### en_ner_rf_i1_md"
   ]
  },
  {
   "cell_type": "code",
   "execution_count": 5,
   "metadata": {},
   "outputs": [
    {
     "name": "stdout",
     "output_type": "stream",
     "text": [
      "[('age', 'RISK_FACTOR'),\n",
      " ('gender', 'RISK_FACTOR'),\n",
      " ('comorbidities', 'RISK_FACTOR'),\n",
      " ('HBT', 'RISK_FACTOR'),\n",
      " ('leukemia', 'RISK_FACTOR'),\n",
      " ('CVD', 'RISK_FACTOR'),\n",
      " ('older age', 'RISK_FACTOR'),\n",
      " ('leukemia', 'RISK_FACTOR')]\n"
     ]
    }
   ],
   "source": [
    "show_entities(\"en_ner_rf_i1_md\", text)"
   ]
  },
  {
   "cell_type": "markdown",
   "metadata": {},
   "source": [
    "## en_ner_rf_i2_md"
   ]
  },
  {
   "cell_type": "code",
   "execution_count": 6,
   "metadata": {},
   "outputs": [
    {
     "name": "stdout",
     "output_type": "stream",
     "text": [
      "[('age', 'RISK_FACTOR'),\n",
      " ('gender', 'RISK_FACTOR'),\n",
      " ('comorbidities', 'RISK_FACTOR'),\n",
      " ('HBT', 'RISK_FACTOR'),\n",
      " ('leukemia', 'RISK_FACTOR'),\n",
      " ('CVD', 'RISK_FACTOR'),\n",
      " ('older age', 'RISK_FACTOR')]\n"
     ]
    }
   ],
   "source": [
    "show_entities(\"en_ner_rf_i2_md\", text)"
   ]
  },
  {
   "cell_type": "markdown",
   "metadata": {},
   "source": [
    "## en_ner_rf_i3_md"
   ]
  },
  {
   "cell_type": "code",
   "execution_count": 7,
   "metadata": {},
   "outputs": [
    {
     "name": "stdout",
     "output_type": "stream",
     "text": [
      "[('age', 'RISK_FACTOR'),\n",
      " ('gender', 'RISK_FACTOR'),\n",
      " ('comorbidities', 'RISK_FACTOR'),\n",
      " ('HBT', 'RISK_FACTOR'),\n",
      " ('leukemia', 'RISK_FACTOR'),\n",
      " ('CVD', 'RISK_FACTOR'),\n",
      " ('older age', 'RISK_FACTOR'),\n",
      " ('leukemia to be the major factors', 'RISK_FACTOR')]\n"
     ]
    }
   ],
   "source": [
    "show_entities(\"en_ner_rf_i3_md\", text)"
   ]
  },
  {
   "cell_type": "markdown",
   "metadata": {},
   "source": [
    "## en_ner_rf_i4_md"
   ]
  },
  {
   "cell_type": "code",
   "execution_count": 8,
   "metadata": {},
   "outputs": [
    {
     "name": "stdout",
     "output_type": "stream",
     "text": [
      "[('comorbidities', 'RISK_FACTOR'),\n",
      " ('HBT', 'RISK_FACTOR'),\n",
      " ('leukemia', 'RISK_FACTOR'),\n",
      " ('CVD', 'RISK_FACTOR'),\n",
      " ('older age', 'RISK_FACTOR'),\n",
      " ('leukemia to be the major factors', 'RISK_FACTOR')]\n"
     ]
    }
   ],
   "source": [
    "show_entities(\"en_ner_rf_i4_md\", text)"
   ]
  }
 ],
 "metadata": {
  "kernelspec": {
   "display_name": "Python 3",
   "language": "python",
   "name": "python3"
  },
  "language_info": {
   "codemirror_mode": {
    "name": "ipython",
    "version": 3
   },
   "file_extension": ".py",
   "mimetype": "text/x-python",
   "name": "python",
   "nbconvert_exporter": "python",
   "pygments_lexer": "ipython3",
   "version": "3.7.7"
  }
 },
 "nbformat": 4,
 "nbformat_minor": 4
}