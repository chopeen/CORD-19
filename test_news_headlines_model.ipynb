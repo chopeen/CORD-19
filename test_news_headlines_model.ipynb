{
 "cells": [
  {
   "cell_type": "markdown",
   "metadata": {},
   "source": [
    "# News headlines experiments\n",
    "\n",
    "NER model trained on a small number of annotations and base model `en_core_web_lg`\n",
    "with original NER pipeline removed."
   ]
  },
  {
   "cell_type": "markdown",
   "metadata": {},
   "source": [
    "## Training\n",
    "\n",
    "```bash\n",
    "$ prodigy train ner ner_news_headlines models/en_core_web_lg_no_ner --output models/model_news_headlines\n",
    "✔ Loaded model 'models/en_core_web_lg_no_ner'\n",
    "Created and merged data for 172 total examples\n",
    "Using 86 train / 86 eval (split 50%)\n",
    "Component: ner | Batch size: compounding | Dropout: 0.2 | Iterations: 10\n",
    "ℹ Baseline accuracy: 0.000\n",
    "\n",
    "=========================== ✨  Training the model ===========================\n",
    "\n",
    "#    Loss       Precision   Recall     F-Score\n",
    "--   --------   ---------   --------   --------\n",
    " 1     133.08      22.222     14.286     17.391\n",
    " 2      69.33      51.613     38.095     43.836\n",
    " 3      29.88      85.714     57.143     68.571\n",
    " 4      31.79      81.250     61.905     70.270\n",
    " 5      19.47      77.778     66.667     71.795\n",
    " 6       6.65      78.049     76.190     77.108\n",
    " 7      10.84      86.111     73.810     79.487\n",
    " 8       5.81      88.235     71.429     78.947\n",
    " 9       2.52      90.625     69.048     78.378\n",
    "10       2.07      85.714     71.429     77.922\n",
    "\n",
    "============================= ✨  Results summary =============================\n",
    "\n",
    "Label    Precision   Recall   F-Score\n",
    "------   ---------   ------   -------\n",
    "PERSON      84.615   78.571    81.481\n",
    "ORG         86.957   71.429    78.431\n",
    "\n",
    "\n",
    "Best F-Score   79.487\n",
    "Baseline       0.000\n",
    "```"
   ]
  },
  {
   "cell_type": "markdown",
   "metadata": {},
   "source": [
    "## Tests"
   ]
  },
  {
   "cell_type": "code",
   "execution_count": 5,
   "metadata": {},
   "outputs": [],
   "source": [
    "import spacy\n",
    "from pprint import pprint\n",
    "\n",
    "nlp = spacy.load(\"models/model_news_headlines\")"
   ]
  },
  {
   "cell_type": "code",
   "execution_count": 6,
   "metadata": {},
   "outputs": [
    {
     "data": {
      "text/html": [
       "<div class=\"entities\" style=\"line-height: 2.5; direction: ltr\"></br>\n",
       "<mark class=\"entity\" style=\"background: #aa9cfc; padding: 0.45em 0.6em; margin: 0 0.25em; line-height: 1; border-radius: 0.35em;\">\n",
       "    Ben Bernanke\n",
       "    <span style=\"font-size: 0.8em; font-weight: bold; line-height: 1; border-radius: 0.35em; text-transform: uppercase; vertical-align: middle; margin-left: 0.5rem\">PERSON</span>\n",
       "</mark>\n",
       ", the former Federal Reserve chairman credited with rescuing the American economy</br>from the 2008 crisis, issued a similar warning Wednesday. \n",
       "<mark class=\"entity\" style=\"background: #aa9cfc; padding: 0.45em 0.6em; margin: 0 0.25em; line-height: 1; border-radius: 0.35em;\">\n",
       "    Jane Halliday\n",
       "    <span style=\"font-size: 0.8em; font-weight: bold; line-height: 1; border-radius: 0.35em; text-transform: uppercase; vertical-align: middle; margin-left: 0.5rem\">PERSON</span>\n",
       "</mark>\n",
       ", who studied the Great Depression,</br>said the current situation is 'more like a major snowstorm or natural disaster than a Great Depression-style</br>downturn.' She quoted the interview \n",
       "<mark class=\"entity\" style=\"background: #aa9cfc; padding: 0.45em 0.6em; margin: 0 0.25em; line-height: 1; border-radius: 0.35em;\">\n",
       "    Tony Atwood\n",
       "    <span style=\"font-size: 0.8em; font-weight: bold; line-height: 1; border-radius: 0.35em; text-transform: uppercase; vertical-align: middle; margin-left: 0.5rem\">PERSON</span>\n",
       "</mark>\n",
       " gave for \n",
       "<mark class=\"entity\" style=\"background: #aa9cfc; padding: 0.45em 0.6em; margin: 0 0.25em; line-height: 1; border-radius: 0.35em;\">\n",
       "    NBC\n",
       "    <span style=\"font-size: 0.8em; font-weight: bold; line-height: 1; border-radius: 0.35em; text-transform: uppercase; vertical-align: middle; margin-left: 0.5rem\">PERSON</span>\n",
       "</mark>\n",
       " earlier.\n",
       "</div>"
      ],
      "text/plain": [
       "<IPython.core.display.HTML object>"
      ]
     },
     "metadata": {},
     "output_type": "display_data"
    },
    {
     "name": "stdout",
     "output_type": "stream",
     "text": [
      "[('Ben Bernanke', 'PERSON'),\n",
      " ('Jane Halliday', 'PERSON'),\n",
      " ('Tony Atwood', 'PERSON'),\n",
      " ('NBC', 'PERSON')]\n"
     ]
    }
   ],
   "source": [
    "text = \"\"\"\n",
    "Ben Bernanke, the former Federal Reserve chairman credited with rescuing the American economy\n",
    "from the 2008 crisis, issued a similar warning Wednesday. Jane Halliday, who studied the Great Depression,\n",
    "said the current situation is 'more like a major snowstorm or natural disaster than a Great Depression-style\n",
    "downturn.' She quoted the interview Tony Atwood gave for NBC earlier.\n",
    "\"\"\"\n",
    "\n",
    "doc = nlp(text)\n",
    "\n",
    "spacy.displacy.render(doc, style='ent', jupyter=True)\n",
    "pprint([(ent.text, ent.label_) for ent in doc.ents])"
   ]
  }
 ],
 "metadata": {
  "kernelspec": {
   "display_name": "Python 3",
   "language": "python",
   "name": "python3"
  },
  "language_info": {
   "codemirror_mode": {
    "name": "ipython",
    "version": 3
   },
   "file_extension": ".py",
   "mimetype": "text/x-python",
   "name": "python",
   "nbconvert_exporter": "python",
   "pygments_lexer": "ipython3",
   "version": "3.7.7"
  }
 },
 "nbformat": 4,
 "nbformat_minor": 4
}
